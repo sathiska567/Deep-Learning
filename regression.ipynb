{
  "nbformat": 4,
  "nbformat_minor": 0,
  "metadata": {
    "colab": {
      "provenance": []
    },
    "kernelspec": {
      "name": "python3",
      "display_name": "Python 3"
    },
    "language_info": {
      "name": "python"
    }
  },
  "cells": [
    {
      "cell_type": "markdown",
      "source": [
        "\n",
        "**Create** **Neural** **Network to Regression Problem**"
      ],
      "metadata": {
        "id": "QO_wVIjnq-vD"
      }
    },
    {
      "cell_type": "code",
      "execution_count": 1,
      "metadata": {
        "colab": {
          "base_uri": "https://localhost:8080/"
        },
        "id": "KCCNxdqqXkj0",
        "outputId": "adc12c86-c446-46a8-d2e5-bc8ae83a25ae"
      },
      "outputs": [
        {
          "output_type": "stream",
          "name": "stdout",
          "text": [
            "Collecting opendatasets\n",
            "  Downloading opendatasets-0.1.22-py3-none-any.whl (15 kB)\n",
            "Requirement already satisfied: tqdm in /usr/local/lib/python3.10/dist-packages (from opendatasets) (4.66.4)\n",
            "Requirement already satisfied: kaggle in /usr/local/lib/python3.10/dist-packages (from opendatasets) (1.6.14)\n",
            "Requirement already satisfied: click in /usr/local/lib/python3.10/dist-packages (from opendatasets) (8.1.7)\n",
            "Requirement already satisfied: six>=1.10 in /usr/local/lib/python3.10/dist-packages (from kaggle->opendatasets) (1.16.0)\n",
            "Requirement already satisfied: certifi>=2023.7.22 in /usr/local/lib/python3.10/dist-packages (from kaggle->opendatasets) (2024.2.2)\n",
            "Requirement already satisfied: python-dateutil in /usr/local/lib/python3.10/dist-packages (from kaggle->opendatasets) (2.8.2)\n",
            "Requirement already satisfied: requests in /usr/local/lib/python3.10/dist-packages (from kaggle->opendatasets) (2.31.0)\n",
            "Requirement already satisfied: python-slugify in /usr/local/lib/python3.10/dist-packages (from kaggle->opendatasets) (8.0.4)\n",
            "Requirement already satisfied: urllib3 in /usr/local/lib/python3.10/dist-packages (from kaggle->opendatasets) (2.0.7)\n",
            "Requirement already satisfied: bleach in /usr/local/lib/python3.10/dist-packages (from kaggle->opendatasets) (6.1.0)\n",
            "Requirement already satisfied: webencodings in /usr/local/lib/python3.10/dist-packages (from bleach->kaggle->opendatasets) (0.5.1)\n",
            "Requirement already satisfied: text-unidecode>=1.3 in /usr/local/lib/python3.10/dist-packages (from python-slugify->kaggle->opendatasets) (1.3)\n",
            "Requirement already satisfied: charset-normalizer<4,>=2 in /usr/local/lib/python3.10/dist-packages (from requests->kaggle->opendatasets) (3.3.2)\n",
            "Requirement already satisfied: idna<4,>=2.5 in /usr/local/lib/python3.10/dist-packages (from requests->kaggle->opendatasets) (3.7)\n",
            "Installing collected packages: opendatasets\n",
            "Successfully installed opendatasets-0.1.22\n"
          ]
        }
      ],
      "source": [
        "\n",
        "!pip install opendatasets"
      ]
    },
    {
      "cell_type": "code",
      "source": [
        "import pandas as pd\n",
        "import matplotlib.pyplot as plt    # use data visualize\n",
        "import tensorflow as tf\n",
        "import opendatasets as od"
      ],
      "metadata": {
        "id": "AF6iBiHtZJIO"
      },
      "execution_count": 2,
      "outputs": []
    },
    {
      "cell_type": "code",
      "source": [
        "od.download(\"https://www.kaggle.com/datasets/andonians/random-linear-regression\")"
      ],
      "metadata": {
        "colab": {
          "base_uri": "https://localhost:8080/"
        },
        "id": "UWYAvv5WZfav",
        "outputId": "5c88b6c6-a9e4-46c2-99d8-9e7ad8080805"
      },
      "execution_count": 3,
      "outputs": [
        {
          "output_type": "stream",
          "name": "stdout",
          "text": [
            "Please provide your Kaggle credentials to download this dataset. Learn more: http://bit.ly/kaggle-creds\n",
            "Your Kaggle username: sathiskasasindu\n",
            "Your Kaggle Key: ··········\n",
            "Dataset URL: https://www.kaggle.com/datasets/andonians/random-linear-regression\n",
            "Downloading random-linear-regression.zip to ./random-linear-regression\n"
          ]
        },
        {
          "output_type": "stream",
          "name": "stderr",
          "text": [
            "100%|██████████| 7.63k/7.63k [00:00<00:00, 3.10MB/s]"
          ]
        },
        {
          "output_type": "stream",
          "name": "stdout",
          "text": [
            "\n"
          ]
        },
        {
          "output_type": "stream",
          "name": "stderr",
          "text": [
            "\n"
          ]
        }
      ]
    },
    {
      "cell_type": "code",
      "source": [
        "# Load regression file\n",
        "data = pd.read_csv(\"random-linear-regression/test.csv\")"
      ],
      "metadata": {
        "id": "nMC-UMM6a1p_"
      },
      "execution_count": 4,
      "outputs": []
    },
    {
      "cell_type": "code",
      "source": [
        "data.head()"
      ],
      "metadata": {
        "colab": {
          "base_uri": "https://localhost:8080/",
          "height": 206
        },
        "id": "zVL8dwMVbL7V",
        "outputId": "e5178372-c0ba-4d74-eaad-ddff39769784"
      },
      "execution_count": 5,
      "outputs": [
        {
          "output_type": "execute_result",
          "data": {
            "text/plain": [
              "    x          y\n",
              "0  77  79.775152\n",
              "1  21  23.177279\n",
              "2  22  25.609262\n",
              "3  20  17.857388\n",
              "4  36  41.849864"
            ],
            "text/html": [
              "\n",
              "  <div id=\"df-0907a113-551f-4cc2-84f6-11dba70aa561\" class=\"colab-df-container\">\n",
              "    <div>\n",
              "<style scoped>\n",
              "    .dataframe tbody tr th:only-of-type {\n",
              "        vertical-align: middle;\n",
              "    }\n",
              "\n",
              "    .dataframe tbody tr th {\n",
              "        vertical-align: top;\n",
              "    }\n",
              "\n",
              "    .dataframe thead th {\n",
              "        text-align: right;\n",
              "    }\n",
              "</style>\n",
              "<table border=\"1\" class=\"dataframe\">\n",
              "  <thead>\n",
              "    <tr style=\"text-align: right;\">\n",
              "      <th></th>\n",
              "      <th>x</th>\n",
              "      <th>y</th>\n",
              "    </tr>\n",
              "  </thead>\n",
              "  <tbody>\n",
              "    <tr>\n",
              "      <th>0</th>\n",
              "      <td>77</td>\n",
              "      <td>79.775152</td>\n",
              "    </tr>\n",
              "    <tr>\n",
              "      <th>1</th>\n",
              "      <td>21</td>\n",
              "      <td>23.177279</td>\n",
              "    </tr>\n",
              "    <tr>\n",
              "      <th>2</th>\n",
              "      <td>22</td>\n",
              "      <td>25.609262</td>\n",
              "    </tr>\n",
              "    <tr>\n",
              "      <th>3</th>\n",
              "      <td>20</td>\n",
              "      <td>17.857388</td>\n",
              "    </tr>\n",
              "    <tr>\n",
              "      <th>4</th>\n",
              "      <td>36</td>\n",
              "      <td>41.849864</td>\n",
              "    </tr>\n",
              "  </tbody>\n",
              "</table>\n",
              "</div>\n",
              "    <div class=\"colab-df-buttons\">\n",
              "\n",
              "  <div class=\"colab-df-container\">\n",
              "    <button class=\"colab-df-convert\" onclick=\"convertToInteractive('df-0907a113-551f-4cc2-84f6-11dba70aa561')\"\n",
              "            title=\"Convert this dataframe to an interactive table.\"\n",
              "            style=\"display:none;\">\n",
              "\n",
              "  <svg xmlns=\"http://www.w3.org/2000/svg\" height=\"24px\" viewBox=\"0 -960 960 960\">\n",
              "    <path d=\"M120-120v-720h720v720H120Zm60-500h600v-160H180v160Zm220 220h160v-160H400v160Zm0 220h160v-160H400v160ZM180-400h160v-160H180v160Zm440 0h160v-160H620v160ZM180-180h160v-160H180v160Zm440 0h160v-160H620v160Z\"/>\n",
              "  </svg>\n",
              "    </button>\n",
              "\n",
              "  <style>\n",
              "    .colab-df-container {\n",
              "      display:flex;\n",
              "      gap: 12px;\n",
              "    }\n",
              "\n",
              "    .colab-df-convert {\n",
              "      background-color: #E8F0FE;\n",
              "      border: none;\n",
              "      border-radius: 50%;\n",
              "      cursor: pointer;\n",
              "      display: none;\n",
              "      fill: #1967D2;\n",
              "      height: 32px;\n",
              "      padding: 0 0 0 0;\n",
              "      width: 32px;\n",
              "    }\n",
              "\n",
              "    .colab-df-convert:hover {\n",
              "      background-color: #E2EBFA;\n",
              "      box-shadow: 0px 1px 2px rgba(60, 64, 67, 0.3), 0px 1px 3px 1px rgba(60, 64, 67, 0.15);\n",
              "      fill: #174EA6;\n",
              "    }\n",
              "\n",
              "    .colab-df-buttons div {\n",
              "      margin-bottom: 4px;\n",
              "    }\n",
              "\n",
              "    [theme=dark] .colab-df-convert {\n",
              "      background-color: #3B4455;\n",
              "      fill: #D2E3FC;\n",
              "    }\n",
              "\n",
              "    [theme=dark] .colab-df-convert:hover {\n",
              "      background-color: #434B5C;\n",
              "      box-shadow: 0px 1px 3px 1px rgba(0, 0, 0, 0.15);\n",
              "      filter: drop-shadow(0px 1px 2px rgba(0, 0, 0, 0.3));\n",
              "      fill: #FFFFFF;\n",
              "    }\n",
              "  </style>\n",
              "\n",
              "    <script>\n",
              "      const buttonEl =\n",
              "        document.querySelector('#df-0907a113-551f-4cc2-84f6-11dba70aa561 button.colab-df-convert');\n",
              "      buttonEl.style.display =\n",
              "        google.colab.kernel.accessAllowed ? 'block' : 'none';\n",
              "\n",
              "      async function convertToInteractive(key) {\n",
              "        const element = document.querySelector('#df-0907a113-551f-4cc2-84f6-11dba70aa561');\n",
              "        const dataTable =\n",
              "          await google.colab.kernel.invokeFunction('convertToInteractive',\n",
              "                                                    [key], {});\n",
              "        if (!dataTable) return;\n",
              "\n",
              "        const docLinkHtml = 'Like what you see? Visit the ' +\n",
              "          '<a target=\"_blank\" href=https://colab.research.google.com/notebooks/data_table.ipynb>data table notebook</a>'\n",
              "          + ' to learn more about interactive tables.';\n",
              "        element.innerHTML = '';\n",
              "        dataTable['output_type'] = 'display_data';\n",
              "        await google.colab.output.renderOutput(dataTable, element);\n",
              "        const docLink = document.createElement('div');\n",
              "        docLink.innerHTML = docLinkHtml;\n",
              "        element.appendChild(docLink);\n",
              "      }\n",
              "    </script>\n",
              "  </div>\n",
              "\n",
              "\n",
              "<div id=\"df-73077386-4e1d-46bf-9aaa-d39d52e04ede\">\n",
              "  <button class=\"colab-df-quickchart\" onclick=\"quickchart('df-73077386-4e1d-46bf-9aaa-d39d52e04ede')\"\n",
              "            title=\"Suggest charts\"\n",
              "            style=\"display:none;\">\n",
              "\n",
              "<svg xmlns=\"http://www.w3.org/2000/svg\" height=\"24px\"viewBox=\"0 0 24 24\"\n",
              "     width=\"24px\">\n",
              "    <g>\n",
              "        <path d=\"M19 3H5c-1.1 0-2 .9-2 2v14c0 1.1.9 2 2 2h14c1.1 0 2-.9 2-2V5c0-1.1-.9-2-2-2zM9 17H7v-7h2v7zm4 0h-2V7h2v10zm4 0h-2v-4h2v4z\"/>\n",
              "    </g>\n",
              "</svg>\n",
              "  </button>\n",
              "\n",
              "<style>\n",
              "  .colab-df-quickchart {\n",
              "      --bg-color: #E8F0FE;\n",
              "      --fill-color: #1967D2;\n",
              "      --hover-bg-color: #E2EBFA;\n",
              "      --hover-fill-color: #174EA6;\n",
              "      --disabled-fill-color: #AAA;\n",
              "      --disabled-bg-color: #DDD;\n",
              "  }\n",
              "\n",
              "  [theme=dark] .colab-df-quickchart {\n",
              "      --bg-color: #3B4455;\n",
              "      --fill-color: #D2E3FC;\n",
              "      --hover-bg-color: #434B5C;\n",
              "      --hover-fill-color: #FFFFFF;\n",
              "      --disabled-bg-color: #3B4455;\n",
              "      --disabled-fill-color: #666;\n",
              "  }\n",
              "\n",
              "  .colab-df-quickchart {\n",
              "    background-color: var(--bg-color);\n",
              "    border: none;\n",
              "    border-radius: 50%;\n",
              "    cursor: pointer;\n",
              "    display: none;\n",
              "    fill: var(--fill-color);\n",
              "    height: 32px;\n",
              "    padding: 0;\n",
              "    width: 32px;\n",
              "  }\n",
              "\n",
              "  .colab-df-quickchart:hover {\n",
              "    background-color: var(--hover-bg-color);\n",
              "    box-shadow: 0 1px 2px rgba(60, 64, 67, 0.3), 0 1px 3px 1px rgba(60, 64, 67, 0.15);\n",
              "    fill: var(--button-hover-fill-color);\n",
              "  }\n",
              "\n",
              "  .colab-df-quickchart-complete:disabled,\n",
              "  .colab-df-quickchart-complete:disabled:hover {\n",
              "    background-color: var(--disabled-bg-color);\n",
              "    fill: var(--disabled-fill-color);\n",
              "    box-shadow: none;\n",
              "  }\n",
              "\n",
              "  .colab-df-spinner {\n",
              "    border: 2px solid var(--fill-color);\n",
              "    border-color: transparent;\n",
              "    border-bottom-color: var(--fill-color);\n",
              "    animation:\n",
              "      spin 1s steps(1) infinite;\n",
              "  }\n",
              "\n",
              "  @keyframes spin {\n",
              "    0% {\n",
              "      border-color: transparent;\n",
              "      border-bottom-color: var(--fill-color);\n",
              "      border-left-color: var(--fill-color);\n",
              "    }\n",
              "    20% {\n",
              "      border-color: transparent;\n",
              "      border-left-color: var(--fill-color);\n",
              "      border-top-color: var(--fill-color);\n",
              "    }\n",
              "    30% {\n",
              "      border-color: transparent;\n",
              "      border-left-color: var(--fill-color);\n",
              "      border-top-color: var(--fill-color);\n",
              "      border-right-color: var(--fill-color);\n",
              "    }\n",
              "    40% {\n",
              "      border-color: transparent;\n",
              "      border-right-color: var(--fill-color);\n",
              "      border-top-color: var(--fill-color);\n",
              "    }\n",
              "    60% {\n",
              "      border-color: transparent;\n",
              "      border-right-color: var(--fill-color);\n",
              "    }\n",
              "    80% {\n",
              "      border-color: transparent;\n",
              "      border-right-color: var(--fill-color);\n",
              "      border-bottom-color: var(--fill-color);\n",
              "    }\n",
              "    90% {\n",
              "      border-color: transparent;\n",
              "      border-bottom-color: var(--fill-color);\n",
              "    }\n",
              "  }\n",
              "</style>\n",
              "\n",
              "  <script>\n",
              "    async function quickchart(key) {\n",
              "      const quickchartButtonEl =\n",
              "        document.querySelector('#' + key + ' button');\n",
              "      quickchartButtonEl.disabled = true;  // To prevent multiple clicks.\n",
              "      quickchartButtonEl.classList.add('colab-df-spinner');\n",
              "      try {\n",
              "        const charts = await google.colab.kernel.invokeFunction(\n",
              "            'suggestCharts', [key], {});\n",
              "      } catch (error) {\n",
              "        console.error('Error during call to suggestCharts:', error);\n",
              "      }\n",
              "      quickchartButtonEl.classList.remove('colab-df-spinner');\n",
              "      quickchartButtonEl.classList.add('colab-df-quickchart-complete');\n",
              "    }\n",
              "    (() => {\n",
              "      let quickchartButtonEl =\n",
              "        document.querySelector('#df-73077386-4e1d-46bf-9aaa-d39d52e04ede button');\n",
              "      quickchartButtonEl.style.display =\n",
              "        google.colab.kernel.accessAllowed ? 'block' : 'none';\n",
              "    })();\n",
              "  </script>\n",
              "</div>\n",
              "\n",
              "    </div>\n",
              "  </div>\n"
            ],
            "application/vnd.google.colaboratory.intrinsic+json": {
              "type": "dataframe",
              "variable_name": "data",
              "summary": "{\n  \"name\": \"data\",\n  \"rows\": 300,\n  \"fields\": [\n    {\n      \"column\": \"x\",\n      \"properties\": {\n        \"dtype\": \"number\",\n        \"std\": 28,\n        \"min\": 0,\n        \"max\": 100,\n        \"num_unique_values\": 97,\n        \"samples\": [\n          38,\n          88,\n          6\n        ],\n        \"semantic_type\": \"\",\n        \"description\": \"\"\n      }\n    },\n    {\n      \"column\": \"y\",\n      \"properties\": {\n        \"dtype\": \"number\",\n        \"std\": 29.071480855972098,\n        \"min\": -3.467883789,\n        \"max\": 105.5918375,\n        \"num_unique_values\": 300,\n        \"samples\": [\n          92.88772282,\n          79.50341495,\n          97.00148372\n        ],\n        \"semantic_type\": \"\",\n        \"description\": \"\"\n      }\n    }\n  ]\n}"
            }
          },
          "metadata": {},
          "execution_count": 5
        }
      ]
    },
    {
      "cell_type": "code",
      "source": [
        "data.shape"
      ],
      "metadata": {
        "colab": {
          "base_uri": "https://localhost:8080/"
        },
        "id": "Vcjbaij2cCfm",
        "outputId": "0b6489a3-560d-4aac-deed-1a3f48f57444"
      },
      "execution_count": 6,
      "outputs": [
        {
          "output_type": "execute_result",
          "data": {
            "text/plain": [
              "(300, 2)"
            ]
          },
          "metadata": {},
          "execution_count": 6
        }
      ]
    },
    {
      "cell_type": "code",
      "source": [
        "x = data['x']\n",
        "y = data['y']"
      ],
      "metadata": {
        "id": "SJXHJRExcIKe"
      },
      "execution_count": 10,
      "outputs": []
    },
    {
      "cell_type": "code",
      "source": [
        "y"
      ],
      "metadata": {
        "colab": {
          "base_uri": "https://localhost:8080/"
        },
        "id": "HoXt8rdTcOMs",
        "outputId": "2a7047c5-e809-4727-f182-4c67d7f6db40"
      },
      "execution_count": 9,
      "outputs": [
        {
          "output_type": "execute_result",
          "data": {
            "text/plain": [
              "0      79.775152\n",
              "1      23.177279\n",
              "2      25.609262\n",
              "3      17.857388\n",
              "4      41.849864\n",
              "         ...    \n",
              "295    68.545888\n",
              "296    47.334876\n",
              "297    54.090637\n",
              "298    63.297171\n",
              "299    52.459467\n",
              "Name: y, Length: 300, dtype: float64"
            ]
          },
          "metadata": {},
          "execution_count": 9
        }
      ]
    },
    {
      "cell_type": "code",
      "source": [
        "plt.scatter(x,y,c='b')\n",
        "plt.show()"
      ],
      "metadata": {
        "colab": {
          "base_uri": "https://localhost:8080/",
          "height": 430
        },
        "id": "JTmN0ufxcXoF",
        "outputId": "4dadf2c0-1ed6-4580-e9be-a3bfaa58df94"
      },
      "execution_count": 11,
      "outputs": [
        {
          "output_type": "display_data",
          "data": {
            "text/plain": [
              "<Figure size 640x480 with 1 Axes>"
            ],
            "image/png": "[encoded data removed]"
          },
          "metadata": {}
        }
      ]
    },
    {
      "cell_type": "code",
      "source": [
        "# train data set and test data set\n",
        "from sklearn.model_selection import train_test_split\n",
        "x_train,x_test,y_train , y_test = train_test_split(x,y,test_size = 0.2 , random_state = 42)"
      ],
      "metadata": {
        "id": "xhS3BV-zd9iY"
      },
      "execution_count": 12,
      "outputs": []
    },
    {
      "cell_type": "code",
      "source": [
        "x_train.shape,x_test.shape"
      ],
      "metadata": {
        "colab": {
          "base_uri": "https://localhost:8080/"
        },
        "id": "wuui_Y12e1td",
        "outputId": "8edf9624-e6e6-4edb-dd3b-e74515ec4701"
      },
      "execution_count": 13,
      "outputs": [
        {
          "output_type": "execute_result",
          "data": {
            "text/plain": [
              "((240,), (60,))"
            ]
          },
          "metadata": {},
          "execution_count": 13
        }
      ]
    },
    {
      "cell_type": "code",
      "source": [
        "plt.scatter(x_train,y_train, c = 'b', label='Training data')\n",
        "plt.scatter(x_test,y_test, c = 'y', label='Testing data')\n",
        "plt.legend()\n",
        "plt.show()"
      ],
      "metadata": {
        "colab": {
          "base_uri": "https://localhost:8080/",
          "height": 430
        },
        "id": "EEYqge9Ne-AG",
        "outputId": "f58cee0a-0a09-4738-fd7a-621f8b909c82"
      },
      "execution_count": 14,
      "outputs": [
        {
          "output_type": "display_data",
          "data": {
            "text/plain": [
              "<Figure size 640x480 with 1 Axes>"
            ],
            "image/png": "[encoded data removed]"
          },
          "metadata": {}
        }
      ]
    },
    {
      "cell_type": "markdown",
      "source": [
        "# Model Building"
      ],
      "metadata": {
        "id": "2xNVFKP2f-DM"
      }
    },
    {
      "cell_type": "code",
      "source": [
        "# import tensorflow\n",
        "import tensorflow as tf"
      ],
      "metadata": {
        "id": "6q2ZP4THgDDR"
      },
      "execution_count": 15,
      "outputs": []
    },
    {
      "cell_type": "code",
      "source": [
        "# Create the model\n",
        "model = tf.keras.Sequential([\n",
        "    # Create hidden layer\n",
        "    tf.keras.layers.Dense(64, input_shape=(1,)),  # Dense -> fully connected layers\n",
        "    tf.keras.layers.Dense(10),\n",
        "\n",
        "    # Create output layer\n",
        "    tf.keras.layers.Dense(1)\n",
        "])\n",
        "\n",
        "# Compile the model\n",
        "model.compile(\n",
        "    loss=tf.keras.losses.mae,\n",
        "    # optimizer=tf.keras.optimizers.SGD(),\n",
        "    optimizer=tf.keras.optimizers.Adam(lr = 0.05),\n",
        "    metrics=[\"mae\"]\n",
        ")\n",
        "\n",
        "# Train the model\n",
        "epoch_number = 10\n",
        "history = model.fit(tf.expand_dims(x_train, axis=1), y_train, epochs=epoch_number)"
      ],
      "metadata": {
        "colab": {
          "base_uri": "https://localhost:8080/"
        },
        "id": "zWm8ghPMgYRr",
        "outputId": "7bbbf3de-58c7-488b-8b58-7b526ac38e1a"
      },
      "execution_count": 55,
      "outputs": [
        {
          "output_type": "stream",
          "name": "stderr",
          "text": [
            "WARNING:absl:`lr` is deprecated in Keras optimizer, please use `learning_rate` or use the legacy optimizer, e.g.,tf.keras.optimizers.legacy.Adam.\n"
          ]
        },
        {
          "output_type": "stream",
          "name": "stdout",
          "text": [
            "Epoch 1/10\n",
            "8/8 [==============================] - 1s 3ms/step - loss: 11.3813 - mae: 11.3813\n",
            "Epoch 2/10\n",
            "8/8 [==============================] - 0s 2ms/step - loss: 4.6248 - mae: 4.6248\n",
            "Epoch 3/10\n",
            "8/8 [==============================] - 0s 2ms/step - loss: 3.3135 - mae: 3.3135\n",
            "Epoch 4/10\n",
            "8/8 [==============================] - 0s 4ms/step - loss: 2.9008 - mae: 2.9008\n",
            "Epoch 5/10\n",
            "8/8 [==============================] - 0s 2ms/step - loss: 2.4620 - mae: 2.4620\n",
            "Epoch 6/10\n",
            "8/8 [==============================] - 0s 3ms/step - loss: 2.3925 - mae: 2.3925\n",
            "Epoch 7/10\n",
            "8/8 [==============================] - 0s 3ms/step - loss: 2.4514 - mae: 2.4514\n",
            "Epoch 8/10\n",
            "8/8 [==============================] - 0s 3ms/step - loss: 2.5534 - mae: 2.5534\n",
            "Epoch 9/10\n",
            "8/8 [==============================] - 0s 3ms/step - loss: 2.6552 - mae: 2.6552\n",
            "Epoch 10/10\n",
            "8/8 [==============================] - 0s 2ms/step - loss: 2.4833 - mae: 2.4833\n"
          ]
        }
      ]
    },
    {
      "cell_type": "code",
      "source": [
        "model.summary()"
      ],
      "metadata": {
        "colab": {
          "base_uri": "https://localhost:8080/"
        },
        "id": "gp03uMrijNow",
        "outputId": "6993904a-cfc3-429d-9754-97f2145a92e9"
      },
      "execution_count": 46,
      "outputs": [
        {
          "output_type": "stream",
          "name": "stdout",
          "text": [
            "Model: \"sequential_3\"\n",
            "_________________________________________________________________\n",
            " Layer (type)                Output Shape              Param #   \n",
            "=================================================================\n",
            " dense_7 (Dense)             (None, 64)                128       \n",
            "                                                                 \n",
            " dense_8 (Dense)             (None, 10)                650       \n",
            "                                                                 \n",
            " dense_9 (Dense)             (None, 1)                 11        \n",
            "                                                                 \n",
            "=================================================================\n",
            "Total params: 789 (3.08 KB)\n",
            "Trainable params: 789 (3.08 KB)\n",
            "Non-trainable params: 0 (0.00 Byte)\n",
            "_________________________________________________________________\n"
          ]
        }
      ]
    },
    {
      "cell_type": "code",
      "source": [
        "y_predictions = model.predict(x_test)\n",
        "y_predictions[:5]"
      ],
      "metadata": {
        "colab": {
          "base_uri": "https://localhost:8080/"
        },
        "id": "XzsPUjMxkHQL",
        "outputId": "b2208d10-d6be-4a9a-a1bc-ce1922c19452"
      },
      "execution_count": 47,
      "outputs": [
        {
          "output_type": "stream",
          "name": "stdout",
          "text": [
            "2/2 [==============================] - 0s 6ms/step\n"
          ]
        },
        {
          "output_type": "execute_result",
          "data": {
            "text/plain": [
              "array([[90.3036   ],\n",
              "       [76.31204  ],\n",
              "       [94.3012   ],\n",
              "       [ 5.3548694],\n",
              "       [91.30301  ]], dtype=float32)"
            ]
          },
          "metadata": {},
          "execution_count": 47
        }
      ]
    },
    {
      "cell_type": "code",
      "source": [
        "y_test.head()"
      ],
      "metadata": {
        "colab": {
          "base_uri": "https://localhost:8080/"
        },
        "id": "GXDkb9dSkgUi",
        "outputId": "df6b3a96-a840-4113-ac80-791cfd8cc7cc"
      },
      "execution_count": 48,
      "outputs": [
        {
          "output_type": "execute_result",
          "data": {
            "text/plain": [
              "203    92.887723\n",
              "266    79.503415\n",
              "152    97.001484\n",
              "9       8.746748\n",
              "233    89.739520\n",
              "Name: y, dtype: float64"
            ]
          },
          "metadata": {},
          "execution_count": 48
        }
      ]
    },
    {
      "cell_type": "code",
      "source": [
        "# plt.scatter(x_train,y_train, c = 'b', label='Training data')\n",
        "plt.scatter(x_test,y_test, c = 'y', label='Testing data')\n",
        "plt.scatter(x_test,y_predictions, c = 'r', label='Predictions')\n",
        "plt.legend()\n",
        "plt.show()"
      ],
      "metadata": {
        "colab": {
          "base_uri": "https://localhost:8080/",
          "height": 430
        },
        "id": "YFnjPXiqkx-A",
        "outputId": "bd3a26df-9d70-4c43-95e0-5c0e075520a8"
      },
      "execution_count": 49,
      "outputs": [
        {
          "output_type": "display_data",
          "data": {
            "text/plain": [
              "<Figure size 640x480 with 1 Axes>"
            ],
            "image/png": "[encoded data removed]"
          },
          "metadata": {}
        }
      ]
    },
    {
      "cell_type": "code",
      "source": [
        "#evaluate the model\n",
        "model.evaluate(x_test,y_test)"
      ],
      "metadata": {
        "colab": {
          "base_uri": "https://localhost:8080/"
        },
        "id": "NRarUZ8Ulv3o",
        "outputId": "d7d1ec9e-5237-4d74-d4a5-607e8b093875"
      },
      "execution_count": 50,
      "outputs": [
        {
          "output_type": "stream",
          "name": "stdout",
          "text": [
            "2/2 [==============================] - 0s 7ms/step - loss: 2.5471 - mae: 2.5471\n"
          ]
        },
        {
          "output_type": "execute_result",
          "data": {
            "text/plain": [
              "[2.5471062660217285, 2.5471062660217285]"
            ]
          },
          "metadata": {},
          "execution_count": 50
        }
      ]
    },
    {
      "cell_type": "code",
      "source": [
        "# using MAE (Mean Absolute Error)\n",
        "mae = tf.metrics.mean_absolute_error(y_test,tf.squeeze(y_predictions))  #tf.squeeze()->use to convert matrix one dimensional\n",
        "mae"
      ],
      "metadata": {
        "colab": {
          "base_uri": "https://localhost:8080/"
        },
        "id": "jM-iaVkzl9xe",
        "outputId": "84959b70-ed16-440d-ef81-65691910ea22"
      },
      "execution_count": 51,
      "outputs": [
        {
          "output_type": "execute_result",
          "data": {
            "text/plain": [
              "<tf.Tensor: shape=(), dtype=float32, numpy=2.5471065>"
            ]
          },
          "metadata": {},
          "execution_count": 51
        }
      ]
    },
    {
      "cell_type": "code",
      "source": [
        "# using MSE (Mean squared error)\n",
        "mse = tf.metrics.mean_squared_error(y_test,tf.squeeze(y_predictions))\n",
        "mse"
      ],
      "metadata": {
        "colab": {
          "base_uri": "https://localhost:8080/"
        },
        "id": "FltnDJllnk84",
        "outputId": "038b15ae-8689-4f49-b66a-70e49c6564e5"
      },
      "execution_count": 52,
      "outputs": [
        {
          "output_type": "execute_result",
          "data": {
            "text/plain": [
              "<tf.Tensor: shape=(), dtype=float32, numpy=9.550145>"
            ]
          },
          "metadata": {},
          "execution_count": 52
        }
      ]
    },
    {
      "cell_type": "code",
      "source": [
        "tf.squeeze(y_predictions).shape"
      ],
      "metadata": {
        "colab": {
          "base_uri": "https://localhost:8080/"
        },
        "id": "-QEAGMfGnJ96",
        "outputId": "02ff18d3-95a1-4072-fc38-d3dc7637c731"
      },
      "execution_count": 53,
      "outputs": [
        {
          "output_type": "execute_result",
          "data": {
            "text/plain": [
              "TensorShape([60])"
            ]
          },
          "metadata": {},
          "execution_count": 53
        }
      ]
    },
    {
      "cell_type": "code",
      "source": [
        "y_predictions.shape"
      ],
      "metadata": {
        "colab": {
          "base_uri": "https://localhost:8080/"
        },
        "id": "X6O4to_1m4uh",
        "outputId": "25858fcc-4e00-46fe-bc2f-e47ea1efac78"
      },
      "execution_count": 54,
      "outputs": [
        {
          "output_type": "execute_result",
          "data": {
            "text/plain": [
              "(60, 1)"
            ]
          },
          "metadata": {},
          "execution_count": 54
        }
      ]
    },
    {
      "cell_type": "code",
      "source": [
        "history.history"
      ],
      "metadata": {
        "colab": {
          "base_uri": "https://localhost:8080/"
        },
        "id": "hbFNixgdppYV",
        "outputId": "6f302eae-b124-427f-8fdd-061578c4297a"
      },
      "execution_count": 56,
      "outputs": [
        {
          "output_type": "execute_result",
          "data": {
            "text/plain": [
              "{'loss': [11.381322860717773,\n",
              "  4.62483549118042,\n",
              "  3.3134710788726807,\n",
              "  2.9008424282073975,\n",
              "  2.462031364440918,\n",
              "  2.392470359802246,\n",
              "  2.451366424560547,\n",
              "  2.553419589996338,\n",
              "  2.655197858810425,\n",
              "  2.483258008956909],\n",
              " 'mae': [11.381322860717773,\n",
              "  4.62483549118042,\n",
              "  3.3134710788726807,\n",
              "  2.9008424282073975,\n",
              "  2.462031364440918,\n",
              "  2.392470359802246,\n",
              "  2.451366424560547,\n",
              "  2.553419589996338,\n",
              "  2.655197858810425,\n",
              "  2.483258008956909]}"
            ]
          },
          "metadata": {},
          "execution_count": 56
        }
      ]
    },
    {
      "cell_type": "code",
      "source": [
        "x_range = range(1,epoch_number+1)\n",
        "loss = history.history['loss']\n",
        "plt.plot(x_range,loss)\n",
        "plt.xlabel('epoch')\n",
        "plt.ylabel('loss')\n",
        "plt.show()"
      ],
      "metadata": {
        "colab": {
          "base_uri": "https://localhost:8080/",
          "height": 449
        },
        "id": "FC1q4vEOpQzy",
        "outputId": "31e00ece-4a00-4d2f-9fd6-8320004c0e78"
      },
      "execution_count": 57,
      "outputs": [
        {
          "output_type": "display_data",
          "data": {
            "text/plain": [
              "<Figure size 640x480 with 1 Axes>"
            ],
            "image/png": "[encoded data removed]"
          },
          "metadata": {}
        }
      ]
    },
    {
      "cell_type": "code",
      "source": [
        "for layer in model.layers:\n",
        "  weight = layer.get_weights()[0]\n",
        "  height = layer.get_weights()[1]\n",
        "  print(f\"\\nWeights:\\n {weight} \\nBiases: \\n{height}\")"
      ],
      "metadata": {
        "colab": {
          "base_uri": "https://localhost:8080/"
        },
        "id": "yJ9eIVwMp8NY",
        "outputId": "ec64cb25-5f83-4b97-e2a6-d8a4899925db"
      },
      "execution_count": 60,
      "outputs": [
        {
          "output_type": "stream",
          "name": "stdout",
          "text": [
            "\n",
            "Weights:\n",
            " [[ 1.18380859e-01 -2.41091132e-01 -2.71849692e-01  2.71762282e-01\n",
            "   1.09609760e-01  1.92944080e-01 -1.40846491e-01  2.89541811e-01\n",
            "  -8.09171498e-02 -1.17307696e-02 -3.75162996e-02  1.43822700e-01\n",
            "  -2.20619142e-01 -1.46050960e-01 -2.06774205e-01 -6.07469268e-02\n",
            "   2.52385139e-01 -1.93823069e-01 -2.51281337e-04  2.39409506e-01\n",
            "   1.06452465e-01 -1.19721003e-01 -2.43581057e-01  1.04836389e-01\n",
            "   2.30304703e-01 -8.85644034e-02 -2.89439652e-02 -1.77351654e-01\n",
            "   9.05718282e-02  9.78045836e-02 -1.23691550e-02  1.44634664e-01\n",
            "   6.70343172e-03  2.94408798e-01 -2.32433140e-01 -1.51869938e-01\n",
            "  -3.56483832e-02  1.00905351e-01 -2.03460202e-01  2.91358501e-01\n",
            "   1.48650005e-01  2.35861555e-01  4.99222763e-02  1.18408330e-01\n",
            "  -3.08151960e-01 -1.33721121e-02 -7.80313686e-02 -2.86148824e-02\n",
            "   1.03796326e-01 -1.04431123e-01  9.58275199e-02  8.98925811e-02\n",
            "   4.89096902e-03 -1.14194043e-02 -2.98654020e-01 -1.98394492e-01\n",
            "  -2.22197741e-01  1.12879358e-01 -1.96180165e-01 -2.45695069e-01\n",
            "  -5.57663105e-02 -7.45277107e-02  2.58139253e-01 -2.93120325e-01]] \n",
            "Biases: \n",
            "[ 0.0021752   0.00638574  0.00969428  0.00132476  0.0026476   0.00268937\n",
            "  0.00105958  0.00335821 -0.00245515  0.01366356 -0.00094995 -0.00033751\n",
            "  0.00874864 -0.00316982 -0.00309147 -0.00329569 -0.00533709  0.02226912\n",
            " -0.00506722 -0.00074709 -0.02455126 -0.00227296  0.00299848  0.00274137\n",
            " -0.00618521  0.00597078 -0.00252911  0.00976852  0.0020814  -0.02325843\n",
            " -0.00036476 -0.00514887  0.00318402 -0.00240383 -0.00250552 -0.00310886\n",
            "  0.00760934  0.00193121 -0.0021881   0.00287943 -0.00425946 -0.00433684\n",
            "  0.00295814  0.00239103 -0.0029394   0.01203205  0.01101458  0.00456219\n",
            " -0.00539345  0.00469838  0.00279814  0.00246772 -0.00591191 -0.00154849\n",
            " -0.0031392  -0.00312623  0.0002524  -0.00461615 -0.00321472 -0.00254644\n",
            "  0.00652969  0.01412318  0.00327737  0.00445699]\n",
            "\n",
            "Weights:\n",
            " [[-2.71918237e-01 -8.33135918e-02  1.73304677e-02  7.49114603e-02\n",
            "  -2.45273672e-02 -1.55999169e-01 -2.02033184e-02  1.28755748e-01\n",
            "  -8.37961361e-02  2.62526959e-01]\n",
            " [-1.52440276e-02  2.31831431e-01  4.76206653e-02 -4.31021526e-02\n",
            "  -1.62931159e-01  1.30758524e-01  4.10538130e-02  1.64259732e-01\n",
            "  -1.49992332e-01 -3.26180197e-02]\n",
            " [ 2.21105397e-01  1.29356906e-01 -2.60954201e-01  1.72685698e-01\n",
            "  -5.02765700e-02 -1.89117745e-01  7.83309489e-02 -1.80925101e-01\n",
            "   8.59230310e-02 -1.85075417e-01]\n",
            " [-2.06292123e-01 -1.27734631e-01 -1.93558130e-02 -2.78670322e-02\n",
            "  -2.79803604e-01 -2.39432722e-01  7.94506341e-04 -2.62019108e-03\n",
            "  -2.73008168e-01  1.58095077e-01]\n",
            " [ 1.31392971e-01 -2.31288642e-01  2.70450413e-01 -1.18559279e-01\n",
            "  -1.65501669e-01  4.16280255e-02  1.04709588e-01  2.82933503e-01\n",
            "  -1.70015231e-01  1.55032873e-01]\n",
            " [-2.55789340e-01 -2.79907584e-01  1.25428364e-01  5.34642898e-02\n",
            "  -2.83894539e-01  7.79958665e-02  7.56829306e-02 -1.61402926e-01\n",
            "  -1.55072555e-01  1.54457986e-01]\n",
            " [-1.98334381e-01 -9.82928351e-02 -8.15278962e-02  1.17375374e-01\n",
            "  -1.26698092e-01  1.55555308e-01 -2.60684699e-01 -7.66770989e-02\n",
            "  -7.47740194e-02 -2.30473399e-01]\n",
            " [ 1.04328722e-01 -1.11431822e-01 -2.33213291e-01  2.52984911e-01\n",
            "   5.54156257e-03  2.82526463e-01  1.92214906e-01  1.37656003e-01\n",
            "  -9.71515551e-02 -1.59924880e-01]\n",
            " [ 1.51427075e-01 -1.30785406e-01  2.35152408e-01  1.00576887e-02\n",
            "   6.75754948e-03 -1.22729972e-01 -2.09773064e-01  2.14247674e-01\n",
            "  -1.85725480e-01 -4.24699411e-02]\n",
            " [ 2.67838359e-01  1.54872015e-01  9.85261276e-02  2.58253574e-01\n",
            "  -2.66272932e-01  2.04389356e-02 -2.30608270e-01  2.19489753e-01\n",
            "   2.58050144e-01 -2.12851554e-01]\n",
            " [ 1.81047633e-01  1.48019388e-01 -6.21909425e-02 -1.24653861e-01\n",
            "   8.04117545e-02 -1.14983127e-01  1.67344436e-01  2.65562534e-02\n",
            "  -1.32658422e-01 -6.66794404e-02]\n",
            " [ 4.34848368e-02 -2.71253318e-01  1.33229047e-01 -9.93536860e-02\n",
            "   4.98059504e-02  2.35053478e-03 -5.05230576e-02  2.04024091e-02\n",
            "  -2.46267885e-01  1.77729160e-01]\n",
            " [-1.54696554e-01 -3.66833881e-02 -1.03363939e-01 -3.79409790e-02\n",
            "   1.79403245e-01 -2.46515144e-02  2.35413574e-02  1.96729079e-02\n",
            "  -1.57782868e-01  7.43865073e-02]\n",
            " [ 2.15941370e-01  2.11031854e-01 -4.31614704e-02 -2.67955095e-01\n",
            "  -2.17946783e-01 -2.51177877e-01 -7.48128369e-02 -1.80762172e-01\n",
            "   3.55014578e-02 -1.22461602e-01]\n",
            " [ 1.05229169e-01  5.64150065e-02  4.40237187e-02 -3.59075330e-02\n",
            "   6.37252778e-02 -3.17489430e-02 -2.76158541e-01  1.01343960e-01\n",
            "   9.33158025e-02 -2.37567604e-01]\n",
            " [ 1.09187216e-01 -1.44343391e-01  1.47590846e-01 -2.59180129e-01\n",
            "   1.97157592e-01 -1.41280249e-01  5.21379821e-02  1.58136170e-02\n",
            "   2.53827602e-01 -2.53765941e-01]\n",
            " [-2.62811482e-01  1.98594958e-01 -7.04247579e-02 -8.41904506e-02\n",
            "  -1.80328920e-01  9.36639830e-02 -2.57184416e-01 -8.18137974e-02\n",
            "  -2.76153088e-01 -2.92369835e-02]\n",
            " [ 1.89644113e-01  1.48756221e-01  2.32610434e-01  8.29530060e-02\n",
            "   1.42484466e-02  9.35813133e-03  1.35975584e-01  1.20077372e-01\n",
            "   7.86041666e-04 -6.68348419e-03]\n",
            " [-2.14909762e-01  2.42814496e-01 -1.61509171e-01 -1.92720294e-01\n",
            "  -3.20389541e-03  1.24255111e-02  3.72118354e-02 -4.61388640e-02\n",
            "   2.32872084e-01  8.77708346e-02]\n",
            " [-7.33986273e-02  2.68248230e-01 -6.26537576e-02 -5.01943305e-02\n",
            "  -1.01240806e-01 -2.44728953e-01  2.16118228e-02  2.56894618e-01\n",
            "  -1.35458425e-01  1.82075426e-01]\n",
            " [-1.05709046e-01 -1.61160126e-01 -2.19322056e-01 -1.38484314e-01\n",
            "  -2.45775312e-01 -2.44300961e-01  2.10626781e-01  1.05613828e-01\n",
            "  -1.82724055e-02 -2.73798317e-01]\n",
            " [ 7.43032321e-02  2.11113691e-01  3.12480591e-02 -1.87872857e-01\n",
            "   2.51578931e-02  5.13435267e-02 -2.11326659e-01  9.78771821e-02\n",
            "  -1.94226220e-01  9.76991802e-02]\n",
            " [ 3.88618628e-03  2.15378433e-01 -1.99124634e-01 -2.63924897e-01\n",
            "   1.72234550e-01 -1.06384307e-01  1.69535294e-01 -1.51675895e-01\n",
            "  -2.40600809e-01  2.08067432e-01]\n",
            " [-2.51429886e-01 -1.29556909e-01 -2.54153758e-01  2.51965574e-03\n",
            "  -2.01299593e-01  1.20519906e-01  1.34622782e-01 -1.49442703e-01\n",
            "   2.68590719e-01 -6.73595965e-02]\n",
            " [ 1.17848702e-01 -2.65128076e-01  1.22518100e-01 -1.59870729e-01\n",
            "  -6.01291172e-02  2.88275838e-01 -2.35469088e-01  4.58264947e-02\n",
            "   1.40691519e-01 -1.07855484e-01]\n",
            " [ 1.64048657e-01 -2.01096624e-01 -1.52995273e-01  1.58129781e-01\n",
            "  -6.36934415e-02  8.56022462e-02 -1.59710512e-01 -1.62866101e-01\n",
            "   6.02985583e-02 -1.85913205e-01]\n",
            " [ 1.01878613e-01  2.24714041e-01 -3.95111069e-02 -1.69480488e-01\n",
            "  -7.95909576e-03 -1.60101503e-01  1.05184257e-01  1.97432294e-01\n",
            "   2.02474356e-01 -1.00486279e-01]\n",
            " [ 2.23513335e-01 -2.13051196e-02  5.39578199e-02 -2.44626209e-01\n",
            "  -2.33545795e-01 -8.12368095e-02 -2.12740809e-01  6.13219328e-02\n",
            "   1.81054592e-01  2.65700817e-01]\n",
            " [ 5.11044860e-02  6.03400394e-02  1.32835899e-02  1.83999106e-01\n",
            "  -2.82529920e-01  2.22006906e-02 -4.15713619e-03  2.07645044e-01\n",
            "  -2.07750171e-01 -2.65475422e-01]\n",
            " [ 1.06303439e-01 -1.85272634e-01  2.39510268e-01 -2.28171080e-01\n",
            "  -1.03710726e-01 -1.71957985e-01  8.38749111e-02  7.41562173e-02\n",
            "  -2.34148055e-01  2.74392307e-01]\n",
            " [ 1.12347670e-01 -1.61776006e-01  2.51231521e-01  1.79768696e-01\n",
            "  -2.07407191e-01 -2.19054837e-02 -5.81172705e-02 -5.53209856e-02\n",
            "  -1.57799393e-01 -1.70686558e-01]\n",
            " [-8.48548114e-02  1.12046666e-01  1.82221398e-01  7.84088820e-02\n",
            "  -2.80317694e-01 -1.61117435e-01 -5.66884642e-03 -2.00078130e-01\n",
            "  -1.71606302e-01  1.75220147e-03]\n",
            " [-2.52360702e-02 -6.16573133e-02 -9.70042869e-02  2.04937416e-03\n",
            "  -1.73524588e-01  3.72557342e-02  2.44842708e-01  1.66596442e-01\n",
            "  -1.72897741e-01 -9.43444893e-02]\n",
            " [-1.41569361e-01 -6.10346459e-02  9.96424928e-02  2.64088456e-02\n",
            "   1.95474938e-01  3.97333503e-02  2.07114648e-02 -4.33070101e-02\n",
            "   1.95404276e-01  2.65893817e-01]\n",
            " [ 1.90552741e-01 -2.08518937e-01  1.87877461e-01 -2.62985647e-01\n",
            "  -2.69167185e-01 -2.63123158e-02 -2.74194658e-01  2.71979690e-01\n",
            "   4.04186733e-02 -6.75490722e-02]\n",
            " [-1.28258452e-01  2.38227934e-01  2.34104648e-01  2.82058660e-02\n",
            "  -3.55197378e-02  1.78661883e-01 -8.59438181e-02 -1.27543688e-01\n",
            "   1.63160041e-01 -1.79140285e-01]\n",
            " [-2.85959959e-01  2.76425760e-02  1.35679170e-01  4.74659950e-02\n",
            "  -1.81507692e-01  8.44808966e-02  1.24611899e-01 -2.36259952e-01\n",
            "   2.21219182e-01  1.60441890e-01]\n",
            " [ 1.37814388e-01 -2.88150489e-01 -1.00355789e-01  2.06630051e-01\n",
            "   2.52378404e-01  3.19774226e-05  1.55869231e-01  2.13853624e-02\n",
            "   1.70736820e-01 -2.54216909e-01]\n",
            " [-1.33364260e-01 -2.29363188e-01  2.77122408e-01  4.51116860e-02\n",
            "   1.90493152e-01  9.79672521e-02 -5.40545918e-02 -1.07683979e-01\n",
            "  -1.32241659e-02  6.49138913e-02]\n",
            " [ 2.12381065e-01 -2.17121035e-01 -6.39632568e-02  6.63740262e-02\n",
            "   2.30160490e-01  6.71866313e-02  8.22763070e-02 -1.70191005e-03\n",
            "  -2.39376679e-01  5.98928668e-02]\n",
            " [-3.01113036e-02  1.35330975e-01  2.38961577e-01  8.43872279e-02\n",
            "   1.84181497e-01 -1.91151366e-01 -9.46289748e-02 -1.35401323e-01\n",
            "  -8.43449906e-02 -2.87874788e-02]\n",
            " [-2.49412760e-01  6.64327517e-02  1.15818553e-01  6.32248372e-02\n",
            "   1.36122674e-01 -2.15653643e-01 -2.24799544e-01 -1.58413336e-01\n",
            "  -1.96363524e-01  2.23961957e-02]\n",
            " [-2.25772128e-01 -2.44979903e-01  1.70357138e-01  2.24824980e-01\n",
            "  -2.72911698e-01 -2.59107575e-02  1.54538238e-02  7.34283775e-02\n",
            "  -5.76081835e-02  1.66849077e-01]\n",
            " [-2.14022130e-01  2.04936504e-01 -1.52373224e-01  1.30865782e-01\n",
            "   1.66022524e-01  4.40422120e-03 -4.96693291e-02  1.74148664e-01\n",
            "   5.24273776e-02  1.81978017e-01]\n",
            " [-2.42336407e-01  4.42374237e-02  2.20402688e-01  2.36900613e-01\n",
            "   9.46363527e-03 -1.29295774e-02 -1.58963636e-01 -2.15873793e-01\n",
            "   9.84014645e-02 -5.72265871e-02]\n",
            " [-7.72447810e-02  2.39844158e-01  9.24633667e-02  5.93335703e-02\n",
            "  -2.60949433e-02  1.16427526e-01 -1.48018062e-01  1.92571461e-01\n",
            "   1.14333853e-01  1.01147205e-01]\n",
            " [-7.62899667e-02 -2.47022301e-01 -5.79937063e-02 -1.22761704e-01\n",
            "   2.47443039e-02  1.19941503e-01 -2.90528387e-01  7.04136193e-02\n",
            "  -1.39711082e-01  5.53068072e-02]\n",
            " [-2.77232170e-01 -2.00503841e-01 -2.02138111e-01  2.59124845e-01\n",
            "   8.41960087e-02  1.25861511e-01  2.41213873e-01 -2.78937906e-01\n",
            "   8.70259479e-02 -1.51951030e-01]\n",
            " [-1.28163949e-01  2.68482655e-01  1.42218962e-01  1.75936967e-01\n",
            "  -4.63952534e-02  1.78873539e-01 -1.87878817e-01  2.84331262e-01\n",
            "   1.29971370e-01 -2.28224710e-01]\n",
            " [ 2.74007022e-01  1.44522741e-01 -2.63458729e-01  1.52764887e-01\n",
            "  -1.66655317e-01 -2.07803041e-01  2.05640107e-01  1.95300832e-01\n",
            "   2.88916409e-01 -1.56819060e-01]\n",
            " [-2.12512031e-01 -2.70141453e-01 -4.13727872e-02  2.27362603e-01\n",
            "  -1.31206170e-01  1.61338806e-01 -1.59807265e-01 -3.26656066e-02\n",
            "  -2.43020788e-01 -4.71558534e-02]\n",
            " [ 1.33136332e-01 -1.02505334e-01 -2.60528415e-01 -5.39222658e-02\n",
            "   3.18898670e-02 -3.04339752e-02  1.86083809e-01 -2.00559482e-01\n",
            "  -2.68524528e-01 -5.74043356e-02]\n",
            " [-1.53980494e-01 -9.02076289e-02 -2.80678511e-01 -2.65662462e-01\n",
            "  -1.02443382e-01 -9.01397094e-02  2.64560491e-01 -1.29898041e-01\n",
            "   1.24187708e-01 -2.20860422e-01]\n",
            " [-4.04873937e-02  2.23357260e-01  1.91289172e-01  1.98696345e-01\n",
            "   9.87321883e-02  2.35428929e-01 -2.41546199e-01 -1.48544177e-01\n",
            "  -1.21729262e-01  9.13389027e-02]\n",
            " [ 6.48859739e-02 -2.13383093e-01  2.33418375e-01 -1.88529789e-01\n",
            "   5.14257103e-02 -2.21624985e-01 -9.05264765e-02 -2.31469631e-01\n",
            "   1.21171027e-01  1.43536717e-01]\n",
            " [ 1.59238845e-01  2.68257231e-01  6.57112077e-02  6.28046244e-02\n",
            "   2.61836033e-02 -8.88389498e-02 -2.80117929e-01  5.69600724e-02\n",
            "  -1.18105225e-01 -2.40805238e-01]\n",
            " [-1.56733692e-01 -1.62100613e-01 -2.38241822e-01 -1.32184908e-01\n",
            "   2.84619719e-01  8.88742283e-02  3.12167145e-02 -1.04390338e-01\n",
            "   1.09467521e-01 -8.49858746e-02]\n",
            " [-8.03227723e-02  7.36040995e-02 -1.54907778e-01 -1.55722946e-01\n",
            "   9.39847678e-02 -2.52542526e-01 -8.43059942e-02 -2.48636380e-01\n",
            "   2.75965363e-01  2.22235799e-01]\n",
            " [-2.67794549e-01 -2.38211989e-01  2.89839476e-01 -1.19642884e-01\n",
            "   3.88463102e-02  1.13793910e-01 -1.09819151e-01 -2.32240722e-01\n",
            "   9.66571569e-02 -6.70379996e-02]\n",
            " [-2.24089175e-01 -8.45820159e-02  8.96489546e-02  1.00276954e-01\n",
            "   5.29356860e-02 -2.73789585e-01  1.69508874e-01  1.78745821e-01\n",
            "   3.93030010e-02 -2.14233518e-01]\n",
            " [ 2.54348129e-01 -5.87131782e-03  2.48623639e-01  1.30799070e-01\n",
            "  -2.38734171e-01 -7.64861330e-02 -7.19255432e-02 -3.70725393e-02\n",
            "   1.24159180e-01  1.83511704e-01]\n",
            " [-1.72157496e-01  3.88826020e-02 -2.67450381e-02 -3.38498615e-02\n",
            "   2.35135615e-01  2.08463222e-01 -2.07445368e-01 -1.12128079e-01\n",
            "  -5.17779030e-02  2.57063031e-01]\n",
            " [-2.14784414e-01 -2.04486802e-01 -1.05824322e-01  2.21012235e-01\n",
            "   4.22465801e-02  1.69900820e-01  1.29919305e-01  2.23351076e-01\n",
            "   2.25353744e-02  8.54964331e-02]\n",
            " [ 1.17749892e-01  9.01184008e-02 -8.33873823e-02  1.32359132e-01\n",
            "  -1.80909872e-01  3.59235033e-02  2.50092447e-01  1.54491425e-01\n",
            "   1.18274167e-01 -9.70484093e-02]] \n",
            "Biases: \n",
            "[ 0.00409056 -0.00368642 -0.00376026  0.00375903 -0.00371661  0.00374868\n",
            "  0.00373885  0.00370924 -0.00345067  0.00375974]\n",
            "\n",
            "Weights:\n",
            " [[ 0.19615017]\n",
            " [-0.3391608 ]\n",
            " [-0.6723381 ]\n",
            " [ 0.66929084]\n",
            " [-0.38237873]\n",
            " [ 0.5662692 ]\n",
            " [ 0.51191974]\n",
            " [ 0.38942856]\n",
            " [-0.13177878]\n",
            " [ 0.6911124 ]] \n",
            "Biases: \n",
            "[0.00383201]\n"
          ]
        }
      ]
    },
    {
      "cell_type": "code",
      "source": [],
      "metadata": {
        "id": "v-Ra5w5BrWVj"
      },
      "execution_count": null,
      "outputs": []
    }
  ]
}